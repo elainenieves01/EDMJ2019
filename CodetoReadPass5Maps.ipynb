{
 "cells": [
  {
   "cell_type": "code",
   "execution_count": 30,
   "id": "a4ecedcb",
   "metadata": {},
   "outputs": [],
   "source": [
    "import numpy \n",
    "import matplotlib"
   ]
  },
  {
   "cell_type": "code",
   "execution_count": 38,
   "id": "62120f26",
   "metadata": {},
   "outputs": [],
   "source": [
    "filenames = ['Pass5ResidualAttempt1_binB7C0Ef.fits.gz', 'Pass5ResidualAttempt1_binB7C0Eg.fits.gz','Pass5ResidualAttempt1_binB10C0Eg.fits.gz']"
   ]
  },
  {
   "cell_type": "code",
   "execution_count": 51,
   "id": "2c56adf6",
   "metadata": {},
   "outputs": [
    {
     "name": "stdout",
     "output_type": "stream",
     "text": [
      "['Pass5ResidualAttempt1_', 'B7C0Ef.fits.gz']\n",
      "True\n",
      "7\n",
      "f\n"
     ]
    },
    {
     "ename": "NameError",
     "evalue": "name 'filenamesEband2' is not defined",
     "output_type": "error",
     "traceback": [
      "\u001b[0;31m---------------------------------------------------------------------------\u001b[0m",
      "\u001b[0;31mNameError\u001b[0m                                 Traceback (most recent call last)",
      "\u001b[0;32m<ipython-input-51-c5dbccc5db05>\u001b[0m in \u001b[0;36m<module>\u001b[0;34m\u001b[0m\n\u001b[1;32m     24\u001b[0m             \u001b[0;32mif\u001b[0m\u001b[0;34m(\u001b[0m\u001b[0mEbin\u001b[0m \u001b[0;34m==\u001b[0m \u001b[0;34m'd'\u001b[0m \u001b[0;32mor\u001b[0m \u001b[0mEbin\u001b[0m \u001b[0;34m==\u001b[0m \u001b[0;34m'e'\u001b[0m \u001b[0;32mor\u001b[0m \u001b[0mEbin\u001b[0m \u001b[0;34m==\u001b[0m \u001b[0;34m'f'\u001b[0m\u001b[0;34m)\u001b[0m\u001b[0;34m:\u001b[0m\u001b[0;34m\u001b[0m\u001b[0;34m\u001b[0m\u001b[0m\n\u001b[1;32m     25\u001b[0m                 \u001b[0;32mif\u001b[0m\u001b[0;34m(\u001b[0m\u001b[0mnHitbin\u001b[0m \u001b[0;34m>=\u001b[0m \u001b[0;36m5\u001b[0m\u001b[0;34m)\u001b[0m\u001b[0;34m:\u001b[0m\u001b[0;34m\u001b[0m\u001b[0;34m\u001b[0m\u001b[0m\n\u001b[0;32m---> 26\u001b[0;31m                     \u001b[0mfilenamesEband2\u001b[0m\u001b[0;34m.\u001b[0m\u001b[0mappend\u001b[0m\u001b[0;34m(\u001b[0m\u001b[0mnam\u001b[0m\u001b[0;34m)\u001b[0m\u001b[0;34m\u001b[0m\u001b[0;34m\u001b[0m\u001b[0m\n\u001b[0m\u001b[1;32m     27\u001b[0m             \u001b[0;32mif\u001b[0m\u001b[0;34m(\u001b[0m\u001b[0mEbin\u001b[0m \u001b[0;34m==\u001b[0m \u001b[0;34m'g'\u001b[0m \u001b[0;32mor\u001b[0m \u001b[0mEbin\u001b[0m \u001b[0;34m==\u001b[0m \u001b[0;34m'h'\u001b[0m \u001b[0;32mor\u001b[0m \u001b[0mEbin\u001b[0m \u001b[0;34m==\u001b[0m \u001b[0;34m'i'\u001b[0m\u001b[0;34m)\u001b[0m\u001b[0;34m:\u001b[0m\u001b[0;34m\u001b[0m\u001b[0;34m\u001b[0m\u001b[0m\n\u001b[1;32m     28\u001b[0m                 \u001b[0;32mif\u001b[0m\u001b[0;34m(\u001b[0m\u001b[0mnHitbin\u001b[0m \u001b[0;34m>=\u001b[0m \u001b[0;36m7\u001b[0m\u001b[0;34m)\u001b[0m\u001b[0;34m:\u001b[0m\u001b[0;34m\u001b[0m\u001b[0;34m\u001b[0m\u001b[0m\n",
      "\u001b[0;31mNameError\u001b[0m: name 'filenamesEband2' is not defined"
     ]
    }
   ],
   "source": [
    "for nam in filenames:\n",
    "        bin_name = nam.split(\"bin\")\n",
    "        print(bin_name)\n",
    "        Pass5 = bool\n",
    "        if (bin_name[1].startswith('B')):\n",
    "            Pass5 = True\n",
    "        print(Pass5)        \n",
    "        if (Pass5 == True):\n",
    "            if (len(bin_name[1]) == 14):\n",
    "                nHitbin = int(bin_name[1][1])\n",
    "                print(nHitbin)\n",
    "                Ebin = bin_name[1][5]\n",
    "                print(Ebin)\n",
    "            if (len(bin_name[1]) == 15):\n",
    "                nHitbin = (int(bin_name[1][1] + bin_name[1][2]))\n",
    "                print(nHitbin)\n",
    "                Ebin = bin_name[1][6]\n",
    "                print(Ebin)\n",
    "\n",
    "        if (Pass5 == True):\n",
    "            if(Ebin == 'a' or Ebin == 'b' or Ebin == 'c'):\n",
    "                if(nHitbin >= 2):\n",
    "                    filenamesEband1.append(nam)\n",
    "            if(Ebin == 'd' or Ebin == 'e' or Ebin == 'f'):\n",
    "                if(nHitbin >= 5):\n",
    "                    filenamesEband2.append(nam)\n",
    "            if(Ebin == 'g' or Ebin == 'h' or Ebin == 'i'):\n",
    "                if(nHitbin >= 7):\n",
    "                    filenamesEband3.append(nam)\n",
    "            if(Ebin == 'j' or Ebin == 'k' or Ebin == 'l'):\n",
    "                if(nHitbin >= 9):\n",
    "                    filenamesEband4.append(nam)\n",
    "\n",
    "        if(Pass5 == False):\n",
    "            kelly_map = True\n",
    "            if(len(bin_name[1]) == 10):    #these are kelly's map with the format of 1a 2a and so on\n",
    "                nHitbin = int(bin_name[1][0])\n",
    "                Ebin = bin_name[1][1]\n",
    "            else:                         #these are for sams maps 00_01 and so on.. format\n",
    "                kelly_map = False\n",
    "                nHitbin = int(bin_name[1][0:2])\n",
    "                Ebin = bin_name[1][3:5]\n",
    "\n",
    "            if kelly_map:\n",
    "                if(Ebin == 'a' or Ebin == 'b' or Ebin == 'c'):\n",
    "                    if(nHitbin >= 2):\n",
    "                        filenamesEband1.append(nam)\n",
    "                if(Ebin == 'd' or Ebin == 'e' or Ebin == 'f'):\n",
    "                    if(nHitbin >= 5):\n",
    "                        filenamesEband2.append(nam)\n",
    "                if(Ebin == 'g' or Ebin == 'h' or Ebin == 'i'):\n",
    "                    if(nHitbin >= 7):\n",
    "                        filenamesEband3.append(nam)\n",
    "                if(Ebin == 'j' or Ebin == 'k' or Ebin == 'l'):\n",
    "                    if(nHitbin >= 9):\n",
    "                        filenamesEband4.append(nam)\n",
    "\n",
    "            if not kelly_map:\n",
    "                if(Ebin == '00' or Ebin == '01' or Ebin == '02'):\n",
    "                    if(nHitbin >= 2):\n",
    "                        filenamesEband1.append(nam)\n",
    "                if(Ebin == '03' or Ebin == '04' or Ebin == '05'):\n",
    "                    if(nHitbin >= 5):\n",
    "                        filenamesEband2.append(nam)\n",
    "                if(Ebin == '06' or Ebin == '07' or Ebin == '08'):\n",
    "                    if(nHitbin >= 7):\n",
    "                        filenamesEband3.append(nam)\n",
    "                if(Ebin == '09' or Ebin == '10' or Ebin == '11'):\n",
    "                    if(nHitbin >= 9):\n",
    "                        filenamesEband4.append(nam)\n",
    "\n",
    "\n",
    "       "
   ]
  },
  {
   "cell_type": "code",
   "execution_count": null,
   "id": "32b5ef0f",
   "metadata": {},
   "outputs": [],
   "source": []
  },
  {
   "cell_type": "code",
   "execution_count": null,
   "id": "0bf422aa",
   "metadata": {},
   "outputs": [],
   "source": []
  }
 ],
 "metadata": {
  "kernelspec": {
   "display_name": "Python 3",
   "language": "python",
   "name": "python3"
  },
  "language_info": {
   "codemirror_mode": {
    "name": "ipython",
    "version": 3
   },
   "file_extension": ".py",
   "mimetype": "text/x-python",
   "name": "python",
   "nbconvert_exporter": "python",
   "pygments_lexer": "ipython3",
   "version": "3.8.8"
  }
 },
 "nbformat": 4,
 "nbformat_minor": 5
}
