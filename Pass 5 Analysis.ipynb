{
 "cells": [
  {
   "cell_type": "markdown",
   "id": "8c425c7c",
   "metadata": {},
   "source": [
    "# Analysis for Pass 5 "
   ]
  },
  {
   "cell_type": "markdown",
   "id": "23e68be0",
   "metadata": {},
   "source": [
    "Directory for Pass 5 Data maps that omit lowest energy bins:\n",
    "hawcroot/data/hawc/aligned/pass5_bins2-10\n",
    "\n",
    "Directory for Pass 5 Data maps that does not omit lowest energy bins:\n",
    "/lustre/hawcz01/hawcroot/maps/pass-5/maps-gp-20210114"
   ]
  },
  {
   "cell_type": "markdown",
   "id": "921a8131",
   "metadata": {},
   "source": [
    "## Pull up Pass 5 Data Maps \n",
    "\n"
   ]
  },
  {
   "cell_type": "code",
   "execution_count": null,
   "id": "5ef64608",
   "metadata": {},
   "outputs": [],
   "source": []
  }
 ],
 "metadata": {
  "kernelspec": {
   "display_name": "Python 3",
   "language": "python",
   "name": "python3"
  },
  "language_info": {
   "codemirror_mode": {
    "name": "ipython",
    "version": 3
   },
   "file_extension": ".py",
   "mimetype": "text/x-python",
   "name": "python",
   "nbconvert_exporter": "python",
   "pygments_lexer": "ipython3",
   "version": "3.8.8"
  }
 },
 "nbformat": 4,
 "nbformat_minor": 5
}
