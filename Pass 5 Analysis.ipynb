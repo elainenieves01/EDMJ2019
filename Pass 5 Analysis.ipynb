{
 "cells": [
  {
   "cell_type": "markdown",
   "id": "8c425c7c",
   "metadata": {},
   "source": [
    "# Analysis for Pass 5 "
   ]
  },
  {
   "cell_type": "markdown",
   "id": "23e68be0",
   "metadata": {},
   "source": [
    "Directory for Pass 5 Data maps that omit lowest energy bins:\n",
    "huge file: hawcroot/data/hawc/aligned/pass5_bins2-10\n",
    "\n",
    "Directory for Pass 5 Data maps that does not omit lowest energy bins:\n",
    "Contains rejiggered fits.gz files and maptree detector response files: \n",
    "/lustre/hawcz01/hawcroot/maps/pass-5/GP-pass5/maps-gp-20210114\n"
   ]
  },
  {
   "cell_type": "markdown",
   "id": "15a6e5ff",
   "metadata": {},
   "source": [
    "## Pull up Pass 5 Data Maps \n",
    "\n",
    "(aerie-gfx) [elainen@fiesta J2019Pass5]$ python ~/hawc_software/hawc_aerie/aerie/install/bin/plotMercator.py sig_map_fullSky_allbins.fits.gz -o DataPass5J2019.png --dpi 300 --milagro --origin 304.92 36.76 5 5!\n",
    "\n",
    "[Screen%20Shot%202022-06-08%20at%201.05.25%20PM.png](attachment:Screen%20Shot%202022-06-08%20at%201.05.25%20PM.png)\n",
    "\n",
    "##Pull up Pass 5 Data Map with -4 thru 55 signif\n",
    "\n",
    "(aerie-gfx) [elainen@fiesta J2019Pass5]$ python ~/hawc_software/hawc_aerie/aerie/install/bin/plotMercator.py sig_map_fullSky_allbins_negSig.fits.gz -o DataPass5J2019NegSignif.png --dpi 300 --milagro --origin 304.92 36.76 5 5 --max 55 --min -4 \n",
    "No module named pyfits\n",
    "/data/disk01/home/elainen/hawc_software/miniconda3/envs/aerie-gfx/lib/python2.7/site-packages/healpy/fitsfunc.py:352: UserWarning: If you are not specifying the input dtype and using the default np.float64 dtype of read_map(), please consider that it will change in a future version to None as to keep the same dtype of the input file: please explicitly set the dtype if it is important to you.\n",
    "  \"If you are not specifying the input dtype and using the default \"\n",
    "NSIDE = 1024\n",
    "ORDERING = RING in fits file\n",
    "INDXSCHM = IMPLICIT\n",
    "Min:                 -3.33 (306.83, 35.27)\n",
    "Max:                 53.00 (304.94, 36.80)\n",
    "Map value at origin: 52.84\n",
    "('Milagro', -4.0, 55.0, 2.0)\n",
    "File DataPass5J2019NegSignif.png created"
   ]
  },
  {
   "cell_type": "markdown",
   "id": "f884b8ed",
   "metadata": {},
   "source": [
    "## Recommended binlist for 35 dec\n",
    "\n",
    "binlist = B2C0Eb B2C0Ec B2C0Ed B3C0Eb B3C0Ec B3C0Ed B3C0Ee B3C0Ef B3C0Eg B4C0Ec B4C0Ed B4C0Ee B4C0Ef B4C0Eg B5C0Ec B5C0Ed B5C0Ee B5C0Ef B5C0Eg B5C0Eh B6C0Ed B6C0Ee B6C0Ef B6C0Eg B6C0Eh B7C0Ef B7C0Eg B7C0Eh B7C0Ei B8C0Ef B8C0Eg B8C0Eh B8C0Ei B8C0Ej B9C0Eg B9C0Eh B9C0Ei B9C0Ej B9C0Ek B10C0Eg B10C0Eh B10C0Ei B10C0Ej B10C0Ek B10C0El"
   ]
  },
  {
   "cell_type": "markdown",
   "id": "008b61c5",
   "metadata": {},
   "source": [
    "## Run fitModel to get model "
   ]
  },
  {
   "cell_type": "markdown",
   "id": "232a8a3a",
   "metadata": {},
   "source": [
    "(new_hal) [elainen@fiesta fitModel]$ ./fitModel.py  --show-model  --fluxPoints --ROI-center 304.92 36.76 --ROI-radius 5 -o ~/J2019Pass5 --map-tree maptree-pass5-production.root --model J2019_fit_logparabolaPass5.model --like  --Name HAWCJ2019 --det-res detRes-GP-pass5Production.root --SaveModel --estimator P5_GP_2D  --use-bins B2C0Eb B2C0Ec B2C0Ed B3C0Eb B3C0Ec B3C0Ed B3C0Ee B3C0Ef B3C0Eg B4C0Ec B4C0Ed B4C0Ee B4C0Ef B4C0Eg B5C0Ec B5C0Ed B5C0Ee B5C0Ef B5C0Eg B5C0Eh B6C0Ed B6C0Ee B6C0Ef B6C0Eg B6C0Eh B7C0Ef B7C0Eg B7C0Eh B7C0Ei B8C0Ef B8C0Eg B8C0Eh B8C0Ei B8C0Ej B9C0Eg B9C0Eh B9C0Ei B9C0Ej B9C0Ek B10C0Eg B10C0Eh B10C0Ei B10C0Ej B10C0Ek B10C0El \n"
   ]
  }
 ],
 "metadata": {
  "kernelspec": {
   "display_name": "Python 3",
   "language": "python",
   "name": "python3"
  },
  "language_info": {
   "codemirror_mode": {
    "name": "ipython",
    "version": 3
   },
   "file_extension": ".py",
   "mimetype": "text/x-python",
   "name": "python",
   "nbconvert_exporter": "python",
   "pygments_lexer": "ipython3",
   "version": "3.8.8"
  }
 },
 "nbformat": 4,
 "nbformat_minor": 5
}
