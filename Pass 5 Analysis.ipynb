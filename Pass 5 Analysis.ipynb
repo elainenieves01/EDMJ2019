{
 "cells": [
  {
   "cell_type": "markdown",
   "id": "8c425c7c",
   "metadata": {},
   "source": [
    "# Analysis for Pass 5 "
   ]
  },
  {
   "cell_type": "markdown",
   "id": "23e68be0",
   "metadata": {},
   "source": [
    "Directory for Pass 5 Data maps that omit lowest energy bins:\n",
    "huge file: hawcroot/data/hawc/aligned/pass5_bins2-10\n",
    "\n",
    "Directory for Pass 5 Data maps that does not omit lowest energy bins:\n",
    "The one that Brian gave me: /lustre/hawcz01/hawcroot/maps/pass-5/maps-gp-20210114\n",
    "The one that works: /lustre/hawcz01/hawcroot/maps/pass-5/maps-fHit100pct-20210114\n",
    "Alternative one that works, contains rejiggered fits.gz files and maptree detector response files: /lustre/hawcz01/hawcroot/maps/pass-5/GP-pass5/maps-gp-20210114\n",
    "Ian's: "
   ]
  },
  {
   "attachments": {},
   "cell_type": "markdown",
   "id": "15a6e5ff",
   "metadata": {},
   "source": [
    "## Pull up Pass 5 Data Maps \n",
    "\n",
    "(aerie-gfx) [elainen@fiesta J2019Pass5]$ python ~/hawc_software/hawc_aerie/aerie/install/bin/plotMercator.py sig_map_fullSky_allbins.fits.gz -o DataPass5J2019.png --dpi 300 --milagro --origin 304.92 36.76 5 5!\n",
    "\n",
    "[Screen%20Shot%202022-06-08%20at%201.05.25%20PM.png](attachment:Screen%20Shot%202022-06-08%20at%201.05.25%20PM.png)"
   ]
  },
  {
   "cell_type": "markdown",
   "id": "f884b8ed",
   "metadata": {},
   "source": [
    "## Recommended binlist for 35 dec\n",
    "\n",
    "1b 1c 1d 1e 2b 2c 2d 2e 2f 3b 3c 3d 3e 3f 4c 4d 4e 4f 4g 5d 5e\n",
    "5f 5g 5h 6e 6f 6g 6h 7f 7g 7h 7i 8g 8h 8i 8j 9g 9h 9i 9j 9k 9l"
   ]
  },
  {
   "cell_type": "code",
   "execution_count": null,
   "id": "27947d77",
   "metadata": {},
   "outputs": [],
   "source": []
  }
 ],
 "metadata": {
  "kernelspec": {
   "display_name": "Python 3",
   "language": "python",
   "name": "python3"
  },
  "language_info": {
   "codemirror_mode": {
    "name": "ipython",
    "version": 3
   },
   "file_extension": ".py",
   "mimetype": "text/x-python",
   "name": "python",
   "nbconvert_exporter": "python",
   "pygments_lexer": "ipython3",
   "version": "3.8.8"
  }
 },
 "nbformat": 4,
 "nbformat_minor": 5
}
