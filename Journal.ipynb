{
 "cells": [
  {
   "cell_type": "markdown",
   "id": "71d2b041",
   "metadata": {},
   "source": [
    "# Energy Dependent Morphology Project\n",
    "\n",
    "## History\n",
    "Project Started June: 2021\n",
    "Project Finished: Actively Working\n",
    "\n",
    "This is a guide on how to make the maps used in this project and to document what I've done so far"
   ]
  },
  {
   "cell_type": "code",
   "execution_count": null,
   "id": "0393c63d",
   "metadata": {},
   "outputs": [],
   "source": []
  }
 ],
 "metadata": {
  "kernelspec": {
   "display_name": "Python 3",
   "language": "python",
   "name": "python3"
  },
  "language_info": {
   "codemirror_mode": {
    "name": "ipython",
    "version": 3
   },
   "file_extension": ".py",
   "mimetype": "text/x-python",
   "name": "python",
   "nbconvert_exporter": "python",
   "pygments_lexer": "ipython3",
   "version": "3.8.8"
  }
 },
 "nbformat": 4,
 "nbformat_minor": 5
}
