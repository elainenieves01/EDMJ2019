{
 "cells": [
  {
   "cell_type": "markdown",
   "id": "71d2b041",
   "metadata": {},
   "source": [
    "# Energy Dependent Morphology Project\n",
    "\n",
    "## History\n",
    "Project Started June: 2021\n",
    "Project Finished: Actively Working\n",
    "\n",
    "This is a guide on how to make the maps used in this project and to document what I've done so far"
   ]
  },
  {
   "cell_type": "markdown",
   "id": "aec1bb2c",
   "metadata": {},
   "source": [
    "## How to ssh \n",
    "## Log into fiesta\n",
    "## How to source different environments \n",
    "## Files that perform sliceanalysis"
   ]
  },
  {
   "cell_type": "markdown",
   "id": "c37f9a6c",
   "metadata": {},
   "source": [
    "###Log Date: 06/07/2022:\n",
    "Was able to get a much better 1D Significance Histogram\n",
    "Had a 10 mintue meeting with Brian \n",
    "Turns out I was fitting the wrong data yesterday\n",
    "\n",
    "Set up github!\n",
    "Drastically changed file system in fiesta \n",
    "Will continue tommorow\n",
    "\n",
    "Talked to jason and made sure to add negSignif to residuals plot"
   ]
  },
  {
   "cell_type": "code",
   "execution_count": null,
   "id": "b594b6bc",
   "metadata": {},
   "outputs": [],
   "source": []
  }
 ],
 "metadata": {
  "kernelspec": {
   "display_name": "Python 3",
   "language": "python",
   "name": "python3"
  },
  "language_info": {
   "codemirror_mode": {
    "name": "ipython",
    "version": 3
   },
   "file_extension": ".py",
   "mimetype": "text/x-python",
   "name": "python",
   "nbconvert_exporter": "python",
   "pygments_lexer": "ipython3",
   "version": "3.8.8"
  }
 },
 "nbformat": 4,
 "nbformat_minor": 5
}
