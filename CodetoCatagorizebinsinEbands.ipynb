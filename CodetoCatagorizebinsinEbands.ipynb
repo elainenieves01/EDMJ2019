{
 "cells": [
  {
   "cell_type": "code",
   "execution_count": 2,
   "id": "6e8c3447",
   "metadata": {},
   "outputs": [],
   "source": [
    "bin_name = ['B2C0Eb', 'B2C0Ec', 'B2C0Ed', 'B3C0Eb', 'B3C0Ec', 'B3C0Ed', 'B3C0Ee', 'B3C0Ef','B3C0Eg', 'B4C0Ec', 'B4C0Ed', 'B4C0Ee', 'B4C0Ef', 'B4C0Eg', 'B5C0Ec', 'B5C0Ed', 'B5C0Ee', 'B5C0Ef', 'B5C0Eg', 'B5C0Eh', 'B6C0Ed', 'B6C0Ee', 'B6C0Ef', 'B6C0Eg', 'B6C0Eh', 'B7C0Ef', 'B7C0Eg', 'B7C0Eh' ,'B7C0Ei', 'B8C0Ef', 'B8C0Eg', 'B8C0Eh', 'B8C0Ei', 'B8C0Ej', 'B9C0Eg', 'B9C0Eh', 'B9C0Ei', 'B9C0Ej', 'B9C0Ek', 'B10C0Eg','B10C0Eh', 'B10C0Ei','B10C0Ej', 'B10C0Ek', 'B10C0El']"
   ]
  },
  {
   "cell_type": "code",
   "execution_count": 3,
   "id": "2072a476",
   "metadata": {},
   "outputs": [
    {
     "data": {
      "text/plain": [
       "45"
      ]
     },
     "execution_count": 3,
     "metadata": {},
     "output_type": "execute_result"
    }
   ],
   "source": [
    "len(bin_name)"
   ]
  },
  {
   "cell_type": "code",
   "execution_count": 58,
   "id": "8b53e8f6",
   "metadata": {},
   "outputs": [],
   "source": [
    "filenamesEband1 = []\n",
    "filenamesBband2 = []\n",
    "filenamesEband3 = []\n",
    "filenamesBband4 = []"
   ]
  },
  {
   "cell_type": "code",
   "execution_count": 69,
   "id": "0d0c9081",
   "metadata": {},
   "outputs": [
    {
     "ename": "NameError",
     "evalue": "name 'nHitBin' is not defined",
     "output_type": "error",
     "traceback": [
      "\u001b[0;31m---------------------------------------------------------------------------\u001b[0m",
      "\u001b[0;31mNameError\u001b[0m                                 Traceback (most recent call last)",
      "\u001b[0;32m<ipython-input-69-b2bca4742c2a>\u001b[0m in \u001b[0;36m<module>\u001b[0;34m\u001b[0m\n\u001b[1;32m      8\u001b[0m         \u001b[0;32mif\u001b[0m \u001b[0;34m(\u001b[0m\u001b[0mlen\u001b[0m\u001b[0;34m(\u001b[0m\u001b[0mbin_name\u001b[0m\u001b[0;34m[\u001b[0m\u001b[0;36m1\u001b[0m\u001b[0;34m]\u001b[0m\u001b[0;34m)\u001b[0m \u001b[0;34m==\u001b[0m \u001b[0;36m6\u001b[0m\u001b[0;34m)\u001b[0m\u001b[0;34m:\u001b[0m\u001b[0;34m\u001b[0m\u001b[0;34m\u001b[0m\u001b[0m\n\u001b[1;32m      9\u001b[0m             \u001b[0mnHitbin\u001b[0m \u001b[0;34m=\u001b[0m \u001b[0mint\u001b[0m\u001b[0;34m(\u001b[0m\u001b[0mbin_name\u001b[0m\u001b[0;34m[\u001b[0m\u001b[0;36m1\u001b[0m\u001b[0;34m]\u001b[0m\u001b[0;34m[\u001b[0m\u001b[0;36m1\u001b[0m\u001b[0;34m]\u001b[0m\u001b[0;34m)\u001b[0m\u001b[0;34m\u001b[0m\u001b[0;34m\u001b[0m\u001b[0m\n\u001b[0;32m---> 10\u001b[0;31m             \u001b[0mprint\u001b[0m\u001b[0;34m(\u001b[0m\u001b[0mnHitBin\u001b[0m\u001b[0;34m)\u001b[0m\u001b[0;34m\u001b[0m\u001b[0;34m\u001b[0m\u001b[0m\n\u001b[0m\u001b[1;32m     11\u001b[0m             \u001b[0mEbin\u001b[0m \u001b[0;34m=\u001b[0m \u001b[0mbin_name\u001b[0m\u001b[0;34m[\u001b[0m\u001b[0;36m1\u001b[0m\u001b[0;34m]\u001b[0m\u001b[0;34m[\u001b[0m\u001b[0;36m5\u001b[0m\u001b[0;34m]\u001b[0m\u001b[0;34m\u001b[0m\u001b[0;34m\u001b[0m\u001b[0m\n\u001b[1;32m     12\u001b[0m \u001b[0;34m\u001b[0m\u001b[0m\n",
      "\u001b[0;31mNameError\u001b[0m: name 'nHitBin' is not defined"
     ]
    }
   ],
   "source": [
    "global nHitbin \n",
    "global Ebin \n",
    "for nam in bin_name:\n",
    "    Pass5 = bool\n",
    "    if (bin_name[0].startswith('B')):\n",
    "            Pass5 = True        \n",
    "    if (Pass5 == True):\n",
    "        if (len(bin_name[1]) == 6):\n",
    "            nHitbin = int(bin_name[1][1])\n",
    "            print(nHitBin)\n",
    "            Ebin = bin_name[1][5]\n",
    "     \n",
    "        if (len(bin_name[1]) == 7):\n",
    "            nHitbin = (int(bin_name[1][1] + bin_name[1][2]))\n",
    "            print(nHitbin)\n",
    "            Ebin = bin_name[1][6]\n",
    "            print(Ebin)\n",
    "\n",
    "            if (Pass5 == True):\n",
    "                if(Ebin == 'a' or Ebin == 'b' or Ebin == 'c'):\n",
    "                    if(nHitbin >= 2):\n",
    "                        filenamesEband1.append(nam)\n",
    "                if(Ebin == 'd' or Ebin == 'e' or Ebin == 'f'):\n",
    "                    if(nHitbin >= 5):\n",
    "                        filenamesEband2.append(nam)\n",
    "                if(Ebin == 'g' or Ebin == 'h' or Ebin == 'i'):\n",
    "                    if(nHitbin >= 7):\n",
    "                        filenamesEband3.append(nam)\n",
    "                if(Ebin == 'j' or Ebin == 'k' or Ebin == 'l'):\n",
    "                    if(nHitbin >= 9):\n",
    "                        filenamesEband4.append(nam)\n",
    "                        "
   ]
  },
  {
   "cell_type": "code",
   "execution_count": 67,
   "id": "4b847149",
   "metadata": {},
   "outputs": [
    {
     "name": "stdout",
     "output_type": "stream",
     "text": [
      "[]\n"
     ]
    }
   ],
   "source": [
    "print(filenamesEband1)\n"
   ]
  },
  {
   "cell_type": "code",
   "execution_count": null,
   "id": "34011c29",
   "metadata": {},
   "outputs": [],
   "source": []
  }
 ],
 "metadata": {
  "kernelspec": {
   "display_name": "Python 3",
   "language": "python",
   "name": "python3"
  },
  "language_info": {
   "codemirror_mode": {
    "name": "ipython",
    "version": 3
   },
   "file_extension": ".py",
   "mimetype": "text/x-python",
   "name": "python",
   "nbconvert_exporter": "python",
   "pygments_lexer": "ipython3",
   "version": "3.8.8"
  }
 },
 "nbformat": 4,
 "nbformat_minor": 5
}
